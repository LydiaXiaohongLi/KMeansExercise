{
 "cells": [
  {
   "cell_type": "code",
   "execution_count": 6,
   "metadata": {},
   "outputs": [],
   "source": [
    "import pandas as pd\n",
    "import math\n",
    "df_places=pd.read_csv('Data/places.csv', names =['lon','lat'])\n",
    "#intialize k means param\n",
    "k=3 #Number of clusters\n",
    "max_iter=5 #Number of maximum iterations\n",
    "min_var_change=0.01 #threshold of change of within cluster variance"
   ]
  },
  {
   "cell_type": "code",
   "execution_count": 8,
   "metadata": {},
   "outputs": [],
   "source": [
    "def update_center(x, y,center):\n",
    "    center_distance = [ (x-i[0])*(x-i[0]) +(y-i[1])*(y-i[1]) for i in center]\n",
    "    a=int(center_distance.index(min(center_distance)))\n",
    "    b = min(center_distance)\n",
    "    return pd.Series([a,b])"
   ]
  },
  {
   "cell_type": "code",
   "execution_count": 9,
   "metadata": {},
   "outputs": [],
   "source": [
    "#initialize with kmeans++  efficiency: O(n*k)\n",
    "center=[]\n",
    "for j in range(k):\n",
    "    #randomly choose the first initial center point\n",
    "    if j==0:\n",
    "        center.append(df_places.iloc[0])\n",
    "    else:        \n",
    "        for i in range(df_places.shape[0]):\n",
    "            dist =0\n",
    "            for m in range(len(center)):\n",
    "                #choose the other intial center point, which has the biggest sum of distance from all existing center points\n",
    "                dist = dist + math.sqrt((df_places.iloc[i]['lon']-center[m][0])*(df_places.iloc[i]['lon']-center[m][0])+ (df_places.iloc[i]['lat']-center[m][1])*(df_places.iloc[i]['lat']-center[m][1]))                               \n",
    "            if i==0:\n",
    "                center.append(df_places.iloc[i])\n",
    "                temp_dist=dist\n",
    "            elif dist >= temp_dist:\n",
    "                temp_dist=dist\n",
    "                center[m]=df_places.iloc[i]\n",
    "\n",
    "#clustering with Kmeans  efficiency: O(n*k*m)\n",
    "for m in range(max_iter):\n",
    "    #Assign each point to a center & calculate center distance\n",
    "    df_places[['center_id','center_distance']]=df_places.apply(lambda row: update_center(row['lon'], row['lat'],center), axis=1)\n",
    " \n",
    "    #calculate within cluster variance change\n",
    "    if m ==0 :\n",
    "        #for first round of updation of new centers, default change of within cluster variance to 1\n",
    "        var_change = 1\n",
    "    else:\n",
    "        #for subsequent round of updation of new centers, calculate change of within cluster variance\n",
    "        var_change = abs(df_places['center_distance'].sum() - var)/var\n",
    "    \n",
    "    #update within cluster variance benchmark value\n",
    "    var = df_places['center_distance'].sum()    \n",
    "    \n",
    "    #Calculate the new center\n",
    "    for i in range(k):\n",
    "        center[i]=(df_places[df_places.center_id==i]['lon'].mean(),df_places[df_places.center_id==i]['lat'].mean())\n",
    "    \n",
    "    #if the change of within cluster variance is less than threshold, then break\n",
    "    if var_change <= min_var_change:\n",
    "        break\n",
    "    "
   ]
  },
  {
   "cell_type": "code",
   "execution_count": 42,
   "metadata": {},
   "outputs": [],
   "source": [
    "df_places.to_csv('Output/ClusterAnalysis_Assignment1_clusteredPlaces.txt', sep=' ', columns=['center'], header=None)\n"
   ]
  }
 ],
 "metadata": {
  "kernelspec": {
   "display_name": "Python 3",
   "language": "python",
   "name": "python3"
  },
  "language_info": {
   "codemirror_mode": {
    "name": "ipython",
    "version": 3
   },
   "file_extension": ".py",
   "mimetype": "text/x-python",
   "name": "python",
   "nbconvert_exporter": "python",
   "pygments_lexer": "ipython3",
   "version": "3.6.4"
  }
 },
 "nbformat": 4,
 "nbformat_minor": 2
}
